{
 "cells": [
  {
   "cell_type": "markdown",
   "id": "e5b2cb89-84cf-4f1a-a048-3f4a3bbc835a",
   "metadata": {},
   "source": [
    "# Tata Steel Stock Price Prediction "
   ]
  },
  {
   "cell_type": "markdown",
   "id": "9fd0d445-c070-44e1-a863-424c0f5efcb6",
   "metadata": {},
   "source": [
    "#### Import Required Libraries"
   ]
  },
  {
   "cell_type": "code",
   "execution_count": 1,
   "id": "111d8995-6663-4342-bc46-79709afb9552",
   "metadata": {},
   "outputs": [],
   "source": [
    "import numpy as np \n",
    "import pandas as pd \n",
    "import matplotlib.pyplot as plt \n",
    "import seaborn as sns\n",
    "import os \n",
    "import warnings\n",
    "warnings.filterwarnings(\"ignore\")"
   ]
  },
  {
   "cell_type": "markdown",
   "id": "5dcfd528-1518-489d-bef3-211e372b31c9",
   "metadata": {},
   "source": [
    "#### Read the ataset"
   ]
  },
  {
   "cell_type": "code",
   "execution_count": 3,
   "id": "679de6a8-9da8-4e38-bd57-52780d96fdee",
   "metadata": {},
   "outputs": [
    {
     "data": {
      "text/html": [
       "<div>\n",
       "<style scoped>\n",
       "    .dataframe tbody tr th:only-of-type {\n",
       "        vertical-align: middle;\n",
       "    }\n",
       "\n",
       "    .dataframe tbody tr th {\n",
       "        vertical-align: top;\n",
       "    }\n",
       "\n",
       "    .dataframe thead th {\n",
       "        text-align: right;\n",
       "    }\n",
       "</style>\n",
       "<table border=\"1\" class=\"dataframe\">\n",
       "  <thead>\n",
       "    <tr style=\"text-align: right;\">\n",
       "      <th></th>\n",
       "      <th>Date</th>\n",
       "      <th>Open</th>\n",
       "      <th>High</th>\n",
       "      <th>Low</th>\n",
       "      <th>Close</th>\n",
       "      <th>Adj Close</th>\n",
       "      <th>Volume</th>\n",
       "    </tr>\n",
       "  </thead>\n",
       "  <tbody>\n",
       "    <tr>\n",
       "      <th>0</th>\n",
       "      <td>1996-01-01</td>\n",
       "      <td>11.172855</td>\n",
       "      <td>11.214964</td>\n",
       "      <td>11.035300</td>\n",
       "      <td>11.186892</td>\n",
       "      <td>2.568285</td>\n",
       "      <td>10242229.0</td>\n",
       "    </tr>\n",
       "    <tr>\n",
       "      <th>1</th>\n",
       "      <td>1996-01-02</td>\n",
       "      <td>11.172855</td>\n",
       "      <td>11.214964</td>\n",
       "      <td>10.951082</td>\n",
       "      <td>10.979155</td>\n",
       "      <td>2.520592</td>\n",
       "      <td>16954313.0</td>\n",
       "    </tr>\n",
       "    <tr>\n",
       "      <th>2</th>\n",
       "      <td>1996-01-03</td>\n",
       "      <td>10.979155</td>\n",
       "      <td>11.229000</td>\n",
       "      <td>10.951082</td>\n",
       "      <td>10.981962</td>\n",
       "      <td>2.521237</td>\n",
       "      <td>13514114.0</td>\n",
       "    </tr>\n",
       "    <tr>\n",
       "      <th>3</th>\n",
       "      <td>1996-01-04</td>\n",
       "      <td>10.807913</td>\n",
       "      <td>10.807913</td>\n",
       "      <td>10.386825</td>\n",
       "      <td>10.633863</td>\n",
       "      <td>2.441320</td>\n",
       "      <td>34785820.0</td>\n",
       "    </tr>\n",
       "    <tr>\n",
       "      <th>4</th>\n",
       "      <td>1996-01-05</td>\n",
       "      <td>10.504730</td>\n",
       "      <td>10.555260</td>\n",
       "      <td>10.316644</td>\n",
       "      <td>10.423319</td>\n",
       "      <td>2.392984</td>\n",
       "      <td>30138033.0</td>\n",
       "    </tr>\n",
       "    <tr>\n",
       "      <th>...</th>\n",
       "      <td>...</td>\n",
       "      <td>...</td>\n",
       "      <td>...</td>\n",
       "      <td>...</td>\n",
       "      <td>...</td>\n",
       "      <td>...</td>\n",
       "      <td>...</td>\n",
       "    </tr>\n",
       "    <tr>\n",
       "      <th>6866</th>\n",
       "      <td>2023-04-11</td>\n",
       "      <td>105.550003</td>\n",
       "      <td>107.849998</td>\n",
       "      <td>105.099998</td>\n",
       "      <td>107.550003</td>\n",
       "      <td>107.550003</td>\n",
       "      <td>49304956.0</td>\n",
       "    </tr>\n",
       "    <tr>\n",
       "      <th>6867</th>\n",
       "      <td>2023-04-12</td>\n",
       "      <td>108.199997</td>\n",
       "      <td>108.400002</td>\n",
       "      <td>106.949997</td>\n",
       "      <td>107.599998</td>\n",
       "      <td>107.599998</td>\n",
       "      <td>27349538.0</td>\n",
       "    </tr>\n",
       "    <tr>\n",
       "      <th>6868</th>\n",
       "      <td>2023-04-13</td>\n",
       "      <td>107.500000</td>\n",
       "      <td>108.150002</td>\n",
       "      <td>105.900002</td>\n",
       "      <td>107.500000</td>\n",
       "      <td>107.500000</td>\n",
       "      <td>34880922.0</td>\n",
       "    </tr>\n",
       "    <tr>\n",
       "      <th>6869</th>\n",
       "      <td>2023-04-17</td>\n",
       "      <td>107.599998</td>\n",
       "      <td>108.300003</td>\n",
       "      <td>106.750000</td>\n",
       "      <td>107.150002</td>\n",
       "      <td>107.150002</td>\n",
       "      <td>24642162.0</td>\n",
       "    </tr>\n",
       "    <tr>\n",
       "      <th>6870</th>\n",
       "      <td>2023-04-18</td>\n",
       "      <td>107.199997</td>\n",
       "      <td>107.900002</td>\n",
       "      <td>106.849998</td>\n",
       "      <td>107.599998</td>\n",
       "      <td>107.599998</td>\n",
       "      <td>25476339.0</td>\n",
       "    </tr>\n",
       "  </tbody>\n",
       "</table>\n",
       "<p>6871 rows × 7 columns</p>\n",
       "</div>"
      ],
      "text/plain": [
       "            Date        Open        High         Low       Close   Adj Close  \\\n",
       "0     1996-01-01   11.172855   11.214964   11.035300   11.186892    2.568285   \n",
       "1     1996-01-02   11.172855   11.214964   10.951082   10.979155    2.520592   \n",
       "2     1996-01-03   10.979155   11.229000   10.951082   10.981962    2.521237   \n",
       "3     1996-01-04   10.807913   10.807913   10.386825   10.633863    2.441320   \n",
       "4     1996-01-05   10.504730   10.555260   10.316644   10.423319    2.392984   \n",
       "...          ...         ...         ...         ...         ...         ...   \n",
       "6866  2023-04-11  105.550003  107.849998  105.099998  107.550003  107.550003   \n",
       "6867  2023-04-12  108.199997  108.400002  106.949997  107.599998  107.599998   \n",
       "6868  2023-04-13  107.500000  108.150002  105.900002  107.500000  107.500000   \n",
       "6869  2023-04-17  107.599998  108.300003  106.750000  107.150002  107.150002   \n",
       "6870  2023-04-18  107.199997  107.900002  106.849998  107.599998  107.599998   \n",
       "\n",
       "          Volume  \n",
       "0     10242229.0  \n",
       "1     16954313.0  \n",
       "2     13514114.0  \n",
       "3     34785820.0  \n",
       "4     30138033.0  \n",
       "...          ...  \n",
       "6866  49304956.0  \n",
       "6867  27349538.0  \n",
       "6868  34880922.0  \n",
       "6869  24642162.0  \n",
       "6870  25476339.0  \n",
       "\n",
       "[6871 rows x 7 columns]"
      ]
     },
     "execution_count": 3,
     "metadata": {},
     "output_type": "execute_result"
    }
   ],
   "source": [
    "df = pd.read_csv(\"C:\\\\Users\\\\Harshal Raut\\\\OneDrive\\\\Desktop\\\\Machine Learning\\\\TATASTEEL.NS (1).csv\")\n",
    "df"
   ]
  },
  {
   "cell_type": "code",
   "execution_count": 4,
   "id": "7833e705-9040-4300-901c-b51e3368e5dd",
   "metadata": {},
   "outputs": [
    {
     "data": {
      "text/plain": [
       "(6871, 7)"
      ]
     },
     "execution_count": 4,
     "metadata": {},
     "output_type": "execute_result"
    }
   ],
   "source": [
    "df.shape"
   ]
  },
  {
   "cell_type": "markdown",
   "id": "cc307884-4132-4fdf-9707-6cbda3dab939",
   "metadata": {},
   "source": [
    "## Data Exploration"
   ]
  },
  {
   "cell_type": "markdown",
   "id": "23c983e9-394c-481d-9e9c-7e2461d784a5",
   "metadata": {},
   "source": [
    "#### Summarization the Data"
   ]
  },
  {
   "cell_type": "code",
   "execution_count": 5,
   "id": "e6133ce1-59be-44ff-b8ac-769fb5492d1f",
   "metadata": {},
   "outputs": [
    {
     "name": "stdout",
     "output_type": "stream",
     "text": [
      "<class 'pandas.core.frame.DataFrame'>\n",
      "RangeIndex: 6871 entries, 0 to 6870\n",
      "Data columns (total 7 columns):\n",
      " #   Column     Non-Null Count  Dtype  \n",
      "---  ------     --------------  -----  \n",
      " 0   Date       6871 non-null   object \n",
      " 1   Open       6864 non-null   float64\n",
      " 2   High       6864 non-null   float64\n",
      " 3   Low        6864 non-null   float64\n",
      " 4   Close      6864 non-null   float64\n",
      " 5   Adj Close  6864 non-null   float64\n",
      " 6   Volume     6864 non-null   float64\n",
      "dtypes: float64(6), object(1)\n",
      "memory usage: 375.9+ KB\n"
     ]
    }
   ],
   "source": [
    "df.info()"
   ]
  },
  {
   "cell_type": "markdown",
   "id": "2cf574ae-bef5-43ad-885a-be3a04d4207d",
   "metadata": {},
   "source": [
    "#### Descriptive Summary of Data "
   ]
  },
  {
   "cell_type": "code",
   "execution_count": 6,
   "id": "9af59780-fcac-45b0-bb88-7a8a1d3e5d38",
   "metadata": {},
   "outputs": [
    {
     "data": {
      "text/html": [
       "<div>\n",
       "<style scoped>\n",
       "    .dataframe tbody tr th:only-of-type {\n",
       "        vertical-align: middle;\n",
       "    }\n",
       "\n",
       "    .dataframe tbody tr th {\n",
       "        vertical-align: top;\n",
       "    }\n",
       "\n",
       "    .dataframe thead th {\n",
       "        text-align: right;\n",
       "    }\n",
       "</style>\n",
       "<table border=\"1\" class=\"dataframe\">\n",
       "  <thead>\n",
       "    <tr style=\"text-align: right;\">\n",
       "      <th></th>\n",
       "      <th>Open</th>\n",
       "      <th>High</th>\n",
       "      <th>Low</th>\n",
       "      <th>Close</th>\n",
       "      <th>Adj Close</th>\n",
       "      <th>Volume</th>\n",
       "    </tr>\n",
       "  </thead>\n",
       "  <tbody>\n",
       "    <tr>\n",
       "      <th>count</th>\n",
       "      <td>6864.000000</td>\n",
       "      <td>6864.000000</td>\n",
       "      <td>6864.000000</td>\n",
       "      <td>6864.000000</td>\n",
       "      <td>6864.000000</td>\n",
       "      <td>6.864000e+03</td>\n",
       "    </tr>\n",
       "    <tr>\n",
       "      <th>mean</th>\n",
       "      <td>37.789490</td>\n",
       "      <td>38.398499</td>\n",
       "      <td>37.098333</td>\n",
       "      <td>37.718267</td>\n",
       "      <td>15.757361</td>\n",
       "      <td>6.982651e+07</td>\n",
       "    </tr>\n",
       "    <tr>\n",
       "      <th>std</th>\n",
       "      <td>29.604842</td>\n",
       "      <td>30.016965</td>\n",
       "      <td>29.104956</td>\n",
       "      <td>29.542239</td>\n",
       "      <td>19.703162</td>\n",
       "      <td>5.831510e+07</td>\n",
       "    </tr>\n",
       "    <tr>\n",
       "      <th>min</th>\n",
       "      <td>3.705570</td>\n",
       "      <td>3.910499</td>\n",
       "      <td>3.705570</td>\n",
       "      <td>3.775751</td>\n",
       "      <td>0.902283</td>\n",
       "      <td>0.000000e+00</td>\n",
       "    </tr>\n",
       "    <tr>\n",
       "      <th>25%</th>\n",
       "      <td>10.554558</td>\n",
       "      <td>10.702640</td>\n",
       "      <td>10.366472</td>\n",
       "      <td>10.504730</td>\n",
       "      <td>2.432781</td>\n",
       "      <td>3.292896e+07</td>\n",
       "    </tr>\n",
       "    <tr>\n",
       "      <th>50%</th>\n",
       "      <td>34.616764</td>\n",
       "      <td>35.114075</td>\n",
       "      <td>33.954185</td>\n",
       "      <td>34.530851</td>\n",
       "      <td>12.302627</td>\n",
       "      <td>5.383640e+07</td>\n",
       "    </tr>\n",
       "    <tr>\n",
       "      <th>75%</th>\n",
       "      <td>50.849415</td>\n",
       "      <td>51.657379</td>\n",
       "      <td>50.037729</td>\n",
       "      <td>50.813896</td>\n",
       "      <td>18.808940</td>\n",
       "      <td>8.758241e+07</td>\n",
       "    </tr>\n",
       "    <tr>\n",
       "      <th>max</th>\n",
       "      <td>161.486557</td>\n",
       "      <td>161.486557</td>\n",
       "      <td>161.486557</td>\n",
       "      <td>161.486557</td>\n",
       "      <td>123.550003</td>\n",
       "      <td>6.428460e+08</td>\n",
       "    </tr>\n",
       "  </tbody>\n",
       "</table>\n",
       "</div>"
      ],
      "text/plain": [
       "              Open         High          Low        Close    Adj Close  \\\n",
       "count  6864.000000  6864.000000  6864.000000  6864.000000  6864.000000   \n",
       "mean     37.789490    38.398499    37.098333    37.718267    15.757361   \n",
       "std      29.604842    30.016965    29.104956    29.542239    19.703162   \n",
       "min       3.705570     3.910499     3.705570     3.775751     0.902283   \n",
       "25%      10.554558    10.702640    10.366472    10.504730     2.432781   \n",
       "50%      34.616764    35.114075    33.954185    34.530851    12.302627   \n",
       "75%      50.849415    51.657379    50.037729    50.813896    18.808940   \n",
       "max     161.486557   161.486557   161.486557   161.486557   123.550003   \n",
       "\n",
       "             Volume  \n",
       "count  6.864000e+03  \n",
       "mean   6.982651e+07  \n",
       "std    5.831510e+07  \n",
       "min    0.000000e+00  \n",
       "25%    3.292896e+07  \n",
       "50%    5.383640e+07  \n",
       "75%    8.758241e+07  \n",
       "max    6.428460e+08  "
      ]
     },
     "execution_count": 6,
     "metadata": {},
     "output_type": "execute_result"
    }
   ],
   "source": [
    "df.describe()"
   ]
  },
  {
   "cell_type": "markdown",
   "id": "cf1f3892-7389-41a6-9e0f-38450fd2cb32",
   "metadata": {},
   "source": [
    "### Check if there were any duplicate values "
   ]
  },
  {
   "cell_type": "code",
   "execution_count": 84,
   "id": "d81efe85-db87-46cc-a17f-c2683ddd5b86",
   "metadata": {},
   "outputs": [
    {
     "data": {
      "text/plain": [
       "Date         0\n",
       "Open         7\n",
       "High         7\n",
       "Low          7\n",
       "Close        7\n",
       "Adj Close    7\n",
       "Volume       7\n",
       "dtype: int64"
      ]
     },
     "execution_count": 84,
     "metadata": {},
     "output_type": "execute_result"
    }
   ],
   "source": [
    "df.isnull().sum()"
   ]
  },
  {
   "cell_type": "code",
   "execution_count": 85,
   "id": "7b775962-0024-4b39-9924-f3da8b801cd3",
   "metadata": {},
   "outputs": [],
   "source": [
    "df.dropna(inplace = True )"
   ]
  },
  {
   "cell_type": "code",
   "execution_count": 86,
   "id": "b2614a73-ab8f-4e0f-9ef0-cc613d2c8c0e",
   "metadata": {},
   "outputs": [
    {
     "data": {
      "text/plain": [
       "Date         0\n",
       "Open         0\n",
       "High         0\n",
       "Low          0\n",
       "Close        0\n",
       "Adj Close    0\n",
       "Volume       0\n",
       "dtype: int64"
      ]
     },
     "execution_count": 86,
     "metadata": {},
     "output_type": "execute_result"
    }
   ],
   "source": [
    "df.isnull().sum()"
   ]
  },
  {
   "cell_type": "code",
   "execution_count": 87,
   "id": "fbc77cf2-6edf-4f03-bb0d-eff94f53bc05",
   "metadata": {},
   "outputs": [
    {
     "data": {
      "text/plain": [
       "0"
      ]
     },
     "execution_count": 87,
     "metadata": {},
     "output_type": "execute_result"
    }
   ],
   "source": [
    "df.duplicated().sum()"
   ]
  },
  {
   "cell_type": "code",
   "execution_count": null,
   "id": "6dd1aff6-2e1b-4266-a511-bd0dc753183b",
   "metadata": {},
   "outputs": [],
   "source": [
    "#FEATURE ENGINEERING"
   ]
  },
  {
   "cell_type": "markdown",
   "id": "359e1d62-5f77-40fc-821a-f339edc02a47",
   "metadata": {},
   "source": [
    "#### Split date into year , month and date  (FEATURE CONSTRUCTION)"
   ]
  },
  {
   "cell_type": "code",
   "execution_count": 7,
   "id": "4636df65-82d4-4174-a362-af168026a1af",
   "metadata": {},
   "outputs": [],
   "source": [
    "df[\"Year\"] = df[\"Date\"].str[0:4]"
   ]
  },
  {
   "cell_type": "code",
   "execution_count": 8,
   "id": "2ab71293-e45b-4d06-890d-bc2b25d48455",
   "metadata": {},
   "outputs": [],
   "source": [
    "df[\"date\"] = df[\"Date\"].str[8:10]"
   ]
  },
  {
   "cell_type": "code",
   "execution_count": 9,
   "id": "d839b2f4-15a7-4f99-b500-97e2dea92582",
   "metadata": {},
   "outputs": [],
   "source": [
    "df[\"month_num\"] = df[\"Date\"].str[5:7]"
   ]
  },
  {
   "cell_type": "code",
   "execution_count": 10,
   "id": "a2582ae1-2b76-4188-886c-e6351b5e11ae",
   "metadata": {},
   "outputs": [],
   "source": [
    "df[\"Year\"] = df[\"Year\"].astype(int)  \n",
    "df[\"date\"] = df[\"date\"].astype(int)\n",
    "df[\"month_num\"] = df[\"month_num\"].astype(int)"
   ]
  },
  {
   "cell_type": "code",
   "execution_count": 11,
   "id": "2136778c-36fe-4b0c-9a62-cdeaccf595e4",
   "metadata": {},
   "outputs": [],
   "source": [
    "df[\"Date\"] = pd.to_datetime(df[\"Date\"])      "
   ]
  },
  {
   "cell_type": "markdown",
   "id": "8c52d60b-789e-40b1-8bd5-d514e3c218b8",
   "metadata": {},
   "source": [
    "## EDA"
   ]
  },
  {
   "cell_type": "markdown",
   "id": "a9fbe83a-a90f-4aa2-9218-7a8c70586b15",
   "metadata": {},
   "source": [
    "#### Opening vs Closing "
   ]
  },
  {
   "cell_type": "code",
   "execution_count": 12,
   "id": "2f05f177-c9fb-4b8c-9177-ce6247d08349",
   "metadata": {},
   "outputs": [
    {
     "data": {
      "text/plain": [
       "<matplotlib.legend.Legend at 0x228e97d48d0>"
      ]
     },
     "execution_count": 12,
     "metadata": {},
     "output_type": "execute_result"
    },
    {
     "data": {
      "image/png": "[encoded data removed]",
      "text/plain": [
       "<Figure size 1000x600 with 1 Axes>"
      ]
     },
     "metadata": {},
     "output_type": "display_data"
    }
   ],
   "source": [
    "plt.figure(figsize=(10,6))\n",
    "sns.lineplot(x=df[\"Date\"],y=df[\"Open\"], label= \"Open\")\n",
    "sns.lineplot(x=df[\"Date\"], y=df[\"Close\"], label = \"Close\")\n",
    "plt.ylabel(\"Prices\")\n",
    "plt.title(\"Open vs Close Comparision\")\n",
    "plt.legend()"
   ]
  },
  {
   "cell_type": "markdown",
   "id": "defd57a4-597a-440a-beb8-f252c7f94c18",
   "metadata": {},
   "source": [
    "## Observations"
   ]
  },
  {
   "cell_type": "markdown",
   "id": "1bbd23d9-5c69-444a-8b8d-98c10141480f",
   "metadata": {},
   "source": [
    "#### Opening prices were mostly higher than closing"
   ]
  },
  {
   "cell_type": "markdown",
   "id": "dac9e2e9-05d1-4dbb-a82b-98ac73a6df17",
   "metadata": {},
   "source": [
    "## Prices by date "
   ]
  },
  {
   "cell_type": "code",
   "execution_count": 94,
   "id": "173f15d7-d348-48e6-85cb-5b9fc64e8f20",
   "metadata": {},
   "outputs": [],
   "source": [
    "sorted_df = df.sort_values(by=\"date\")"
   ]
  },
  {
   "cell_type": "code",
   "execution_count": 95,
   "id": "4c3a77d6-f4cc-41cc-938d-a22b21a6ea28",
   "metadata": {},
   "outputs": [
    {
     "data": {
      "text/html": [
       "<div>\n",
       "<style scoped>\n",
       "    .dataframe tbody tr th:only-of-type {\n",
       "        vertical-align: middle;\n",
       "    }\n",
       "\n",
       "    .dataframe tbody tr th {\n",
       "        vertical-align: top;\n",
       "    }\n",
       "\n",
       "    .dataframe thead th {\n",
       "        text-align: right;\n",
       "    }\n",
       "</style>\n",
       "<table border=\"1\" class=\"dataframe\">\n",
       "  <thead>\n",
       "    <tr style=\"text-align: right;\">\n",
       "      <th></th>\n",
       "      <th>Date</th>\n",
       "      <th>Open</th>\n",
       "      <th>High</th>\n",
       "      <th>Low</th>\n",
       "      <th>Close</th>\n",
       "      <th>Adj Close</th>\n",
       "      <th>Volume</th>\n",
       "      <th>Year</th>\n",
       "      <th>date</th>\n",
       "      <th>month_num</th>\n",
       "    </tr>\n",
       "  </thead>\n",
       "  <tbody>\n",
       "    <tr>\n",
       "      <th>0</th>\n",
       "      <td>1996-01-01</td>\n",
       "      <td>11.172855</td>\n",
       "      <td>11.214964</td>\n",
       "      <td>11.035300</td>\n",
       "      <td>11.186892</td>\n",
       "      <td>2.568285</td>\n",
       "      <td>10242229.0</td>\n",
       "      <td>1996</td>\n",
       "      <td>1</td>\n",
       "      <td>1</td>\n",
       "    </tr>\n",
       "    <tr>\n",
       "      <th>4702</th>\n",
       "      <td>2014-07-01</td>\n",
       "      <td>50.495041</td>\n",
       "      <td>51.952728</td>\n",
       "      <td>50.495041</td>\n",
       "      <td>51.509705</td>\n",
       "      <td>19.121082</td>\n",
       "      <td>55762230.0</td>\n",
       "      <td>2014</td>\n",
       "      <td>1</td>\n",
       "      <td>7</td>\n",
       "    </tr>\n",
       "    <tr>\n",
       "      <th>761</th>\n",
       "      <td>1998-12-01</td>\n",
       "      <td>4.803205</td>\n",
       "      <td>5.131653</td>\n",
       "      <td>4.794783</td>\n",
       "      <td>5.081122</td>\n",
       "      <td>1.166523</td>\n",
       "      <td>61206692.0</td>\n",
       "      <td>1998</td>\n",
       "      <td>1</td>\n",
       "      <td>12</td>\n",
       "    </tr>\n",
       "    <tr>\n",
       "      <th>2948</th>\n",
       "      <td>2007-06-01</td>\n",
       "      <td>47.279709</td>\n",
       "      <td>48.072193</td>\n",
       "      <td>47.096954</td>\n",
       "      <td>47.279709</td>\n",
       "      <td>14.531234</td>\n",
       "      <td>17940414.0</td>\n",
       "      <td>2007</td>\n",
       "      <td>1</td>\n",
       "      <td>6</td>\n",
       "    </tr>\n",
       "    <tr>\n",
       "      <th>6324</th>\n",
       "      <td>2021-02-01</td>\n",
       "      <td>60.490002</td>\n",
       "      <td>64.000000</td>\n",
       "      <td>59.744999</td>\n",
       "      <td>63.610001</td>\n",
       "      <td>27.656687</td>\n",
       "      <td>210846940.0</td>\n",
       "      <td>2021</td>\n",
       "      <td>1</td>\n",
       "      <td>2</td>\n",
       "    </tr>\n",
       "    <tr>\n",
       "      <th>...</th>\n",
       "      <td>...</td>\n",
       "      <td>...</td>\n",
       "      <td>...</td>\n",
       "      <td>...</td>\n",
       "      <td>...</td>\n",
       "      <td>...</td>\n",
       "      <td>...</td>\n",
       "      <td>...</td>\n",
       "      <td>...</td>\n",
       "      <td>...</td>\n",
       "    </tr>\n",
       "    <tr>\n",
       "      <th>4476</th>\n",
       "      <td>2013-07-31</td>\n",
       "      <td>19.826448</td>\n",
       "      <td>20.741076</td>\n",
       "      <td>19.278625</td>\n",
       "      <td>20.550529</td>\n",
       "      <td>7.628629</td>\n",
       "      <td>65774010.0</td>\n",
       "      <td>2013</td>\n",
       "      <td>31</td>\n",
       "      <td>7</td>\n",
       "    </tr>\n",
       "    <tr>\n",
       "      <th>4640</th>\n",
       "      <td>2014-03-31</td>\n",
       "      <td>36.647015</td>\n",
       "      <td>37.761715</td>\n",
       "      <td>36.489815</td>\n",
       "      <td>37.533058</td>\n",
       "      <td>13.932767</td>\n",
       "      <td>73888761.0</td>\n",
       "      <td>2014</td>\n",
       "      <td>31</td>\n",
       "      <td>3</td>\n",
       "    </tr>\n",
       "    <tr>\n",
       "      <th>6551</th>\n",
       "      <td>2021-12-31</td>\n",
       "      <td>110.500000</td>\n",
       "      <td>112.349998</td>\n",
       "      <td>110.264999</td>\n",
       "      <td>111.144997</td>\n",
       "      <td>49.405617</td>\n",
       "      <td>36870210.0</td>\n",
       "      <td>2021</td>\n",
       "      <td>31</td>\n",
       "      <td>12</td>\n",
       "    </tr>\n",
       "    <tr>\n",
       "      <th>5170</th>\n",
       "      <td>2016-05-31</td>\n",
       "      <td>30.916304</td>\n",
       "      <td>32.154861</td>\n",
       "      <td>30.511391</td>\n",
       "      <td>31.854750</td>\n",
       "      <td>12.419637</td>\n",
       "      <td>105401750.0</td>\n",
       "      <td>2016</td>\n",
       "      <td>31</td>\n",
       "      <td>5</td>\n",
       "    </tr>\n",
       "    <tr>\n",
       "      <th>1044</th>\n",
       "      <td>1999-12-31</td>\n",
       "      <td>7.992241</td>\n",
       "      <td>7.992241</td>\n",
       "      <td>7.992241</td>\n",
       "      <td>7.992241</td>\n",
       "      <td>1.906113</td>\n",
       "      <td>0.0</td>\n",
       "      <td>1999</td>\n",
       "      <td>31</td>\n",
       "      <td>12</td>\n",
       "    </tr>\n",
       "  </tbody>\n",
       "</table>\n",
       "<p>6864 rows × 10 columns</p>\n",
       "</div>"
      ],
      "text/plain": [
       "           Date        Open        High         Low       Close  Adj Close  \\\n",
       "0    1996-01-01   11.172855   11.214964   11.035300   11.186892   2.568285   \n",
       "4702 2014-07-01   50.495041   51.952728   50.495041   51.509705  19.121082   \n",
       "761  1998-12-01    4.803205    5.131653    4.794783    5.081122   1.166523   \n",
       "2948 2007-06-01   47.279709   48.072193   47.096954   47.279709  14.531234   \n",
       "6324 2021-02-01   60.490002   64.000000   59.744999   63.610001  27.656687   \n",
       "...         ...         ...         ...         ...         ...        ...   \n",
       "4476 2013-07-31   19.826448   20.741076   19.278625   20.550529   7.628629   \n",
       "4640 2014-03-31   36.647015   37.761715   36.489815   37.533058  13.932767   \n",
       "6551 2021-12-31  110.500000  112.349998  110.264999  111.144997  49.405617   \n",
       "5170 2016-05-31   30.916304   32.154861   30.511391   31.854750  12.419637   \n",
       "1044 1999-12-31    7.992241    7.992241    7.992241    7.992241   1.906113   \n",
       "\n",
       "           Volume  Year  date  month_num  \n",
       "0      10242229.0  1996     1          1  \n",
       "4702   55762230.0  2014     1          7  \n",
       "761    61206692.0  1998     1         12  \n",
       "2948   17940414.0  2007     1          6  \n",
       "6324  210846940.0  2021     1          2  \n",
       "...           ...   ...   ...        ...  \n",
       "4476   65774010.0  2013    31          7  \n",
       "4640   73888761.0  2014    31          3  \n",
       "6551   36870210.0  2021    31         12  \n",
       "5170  105401750.0  2016    31          5  \n",
       "1044          0.0  1999    31         12  \n",
       "\n",
       "[6864 rows x 10 columns]"
      ]
     },
     "execution_count": 95,
     "metadata": {},
     "output_type": "execute_result"
    }
   ],
   "source": [
    "sorted_df"
   ]
  },
  {
   "cell_type": "code",
   "execution_count": 96,
   "id": "f32b9a4e-380f-4f5f-8f2b-60ddc8c37cda",
   "metadata": {},
   "outputs": [
    {
     "data": {
      "text/plain": [
       "Text(0.5, 1.0, 'Opening prices by date ')"
      ]
     },
     "execution_count": 96,
     "metadata": {},
     "output_type": "execute_result"
    },
    {
     "data": {
      "image/png": "[encoded data removed]",
      "text/plain": [
       "<Figure size 1000x600 with 1 Axes>"
      ]
     },
     "metadata": {},
     "output_type": "display_data"
    }
   ],
   "source": [
    "plt.figure(figsize=(10,6))\n",
    "sns.barplot(x=sorted_df[\"date\"], y = sorted_df[\"Open\"])\n",
    "plt.title(\"Opening prices by date \")"
   ]
  },
  {
   "cell_type": "markdown",
   "id": "6de6382a-fde3-4ed8-84a3-da3e2db6586d",
   "metadata": {},
   "source": [
    "## Open prices by month"
   ]
  },
  {
   "cell_type": "code",
   "execution_count": 97,
   "id": "28729899-01a7-4bea-b167-ab60a93c1d81",
   "metadata": {},
   "outputs": [],
   "source": [
    "sorted_df = df.sort_values(by= \"month_num\")"
   ]
  },
  {
   "cell_type": "code",
   "execution_count": 98,
   "id": "6984120e-7113-43bc-be3f-b1bbfc9d7fac",
   "metadata": {},
   "outputs": [
    {
     "data": {
      "text/plain": [
       "Text(0.5, 1.0, 'Opening Prices by Months')"
      ]
     },
     "execution_count": 98,
     "metadata": {},
     "output_type": "execute_result"
    },
    {
     "data": {
      "image/png": "[encoded data removed]",
      "text/plain": [
       "<Figure size 1300x600 with 1 Axes>"
      ]
     },
     "metadata": {},
     "output_type": "display_data"
    }
   ],
   "source": [
    "plt.figure(figsize= (13 , 6))\n",
    "sns.barplot(x= sorted_df[\"month_num\"] , y = sorted_df[\"Open\"])\n",
    "plt.title(\"Opening Prices by Months\")"
   ]
  },
  {
   "cell_type": "markdown",
   "id": "d13d8440-db74-470e-923c-9f9c1b622def",
   "metadata": {},
   "source": [
    "## Correlation  of features "
   ]
  },
  {
   "cell_type": "code",
   "execution_count": 99,
   "id": "4f78d203-4b7a-42ad-8f6c-f655a4fdb5b1",
   "metadata": {},
   "outputs": [
    {
     "data": {
      "text/plain": [
       "<Axes: >"
      ]
     },
     "execution_count": 99,
     "metadata": {},
     "output_type": "execute_result"
    },
    {
     "data": {
      "image/png": "[encoded data removed]",
      "text/plain": [
       "<Figure size 1000x600 with 2 Axes>"
      ]
     },
     "metadata": {},
     "output_type": "display_data"
    }
   ],
   "source": [
    "plt.figure(figsize = (10 ,6))\n",
    "sns.heatmap(df.corr() , annot = True)"
   ]
  },
  {
   "cell_type": "markdown",
   "id": "543a2b43-213d-48ba-a76b-b8131cdaae38",
   "metadata": {},
   "source": [
    "## Obervations"
   ]
  },
  {
   "cell_type": "markdown",
   "id": "bd99395c-15dc-4338-945a-4569f136b760",
   "metadata": {},
   "source": [
    "#### 1. High, low, close were vey simlilar to open. so we can drop them \n",
    "#### 2. As it will be difficult to predict Adj Close and also Volume by the user, it bettter to remove those also \n",
    "#### 3. As we cannot use Datetime directly in ml training, remove date also."
   ]
  },
  {
   "cell_type": "code",
   "execution_count": 100,
   "id": "41b86026-fbfc-47ee-864f-67d735be66bf",
   "metadata": {},
   "outputs": [],
   "source": [
    "df.drop([\"High\",\"Low\",\"Close\",\"Adj Close\" , \"Volume\" , \"Date\"], axis=1 , inplace=True)"
   ]
  },
  {
   "cell_type": "code",
   "execution_count": 101,
   "id": "a8b79369-2de1-4d14-a1d7-5155585f6b7b",
   "metadata": {},
   "outputs": [],
   "source": [
    "df=df.sample(frac = 1)"
   ]
  },
  {
   "cell_type": "code",
   "execution_count": 102,
   "id": "12b1fbdf-779a-4edf-9b55-bc096a6cdbbb",
   "metadata": {},
   "outputs": [
    {
     "data": {
      "text/html": [
       "<div>\n",
       "<style scoped>\n",
       "    .dataframe tbody tr th:only-of-type {\n",
       "        vertical-align: middle;\n",
       "    }\n",
       "\n",
       "    .dataframe tbody tr th {\n",
       "        vertical-align: top;\n",
       "    }\n",
       "\n",
       "    .dataframe thead th {\n",
       "        text-align: right;\n",
       "    }\n",
       "</style>\n",
       "<table border=\"1\" class=\"dataframe\">\n",
       "  <thead>\n",
       "    <tr style=\"text-align: right;\">\n",
       "      <th></th>\n",
       "      <th>Open</th>\n",
       "      <th>Year</th>\n",
       "      <th>date</th>\n",
       "      <th>month_num</th>\n",
       "    </tr>\n",
       "  </thead>\n",
       "  <tbody>\n",
       "    <tr>\n",
       "      <th>403</th>\n",
       "      <td>11.563063</td>\n",
       "      <td>1997</td>\n",
       "      <td>17</td>\n",
       "      <td>7</td>\n",
       "    </tr>\n",
       "    <tr>\n",
       "      <th>3514</th>\n",
       "      <td>47.636833</td>\n",
       "      <td>2009</td>\n",
       "      <td>16</td>\n",
       "      <td>9</td>\n",
       "    </tr>\n",
       "    <tr>\n",
       "      <th>3654</th>\n",
       "      <td>65.043327</td>\n",
       "      <td>2010</td>\n",
       "      <td>19</td>\n",
       "      <td>4</td>\n",
       "    </tr>\n",
       "    <tr>\n",
       "      <th>1705</th>\n",
       "      <td>8.056808</td>\n",
       "      <td>2002</td>\n",
       "      <td>15</td>\n",
       "      <td>7</td>\n",
       "    </tr>\n",
       "    <tr>\n",
       "      <th>5439</th>\n",
       "      <td>51.971783</td>\n",
       "      <td>2017</td>\n",
       "      <td>3</td>\n",
       "      <td>7</td>\n",
       "    </tr>\n",
       "    <tr>\n",
       "      <th>...</th>\n",
       "      <td>...</td>\n",
       "      <td>...</td>\n",
       "      <td>...</td>\n",
       "      <td>...</td>\n",
       "    </tr>\n",
       "    <tr>\n",
       "      <th>4426</th>\n",
       "      <td>29.282360</td>\n",
       "      <td>2013</td>\n",
       "      <td>22</td>\n",
       "      <td>5</td>\n",
       "    </tr>\n",
       "    <tr>\n",
       "      <th>2498</th>\n",
       "      <td>31.665783</td>\n",
       "      <td>2005</td>\n",
       "      <td>3</td>\n",
       "      <td>8</td>\n",
       "    </tr>\n",
       "    <tr>\n",
       "      <th>2840</th>\n",
       "      <td>34.244522</td>\n",
       "      <td>2006</td>\n",
       "      <td>20</td>\n",
       "      <td>12</td>\n",
       "    </tr>\n",
       "    <tr>\n",
       "      <th>1636</th>\n",
       "      <td>5.628536</td>\n",
       "      <td>2002</td>\n",
       "      <td>9</td>\n",
       "      <td>4</td>\n",
       "    </tr>\n",
       "    <tr>\n",
       "      <th>1557</th>\n",
       "      <td>5.053050</td>\n",
       "      <td>2001</td>\n",
       "      <td>19</td>\n",
       "      <td>12</td>\n",
       "    </tr>\n",
       "  </tbody>\n",
       "</table>\n",
       "<p>6864 rows × 4 columns</p>\n",
       "</div>"
      ],
      "text/plain": [
       "           Open  Year  date  month_num\n",
       "403   11.563063  1997    17          7\n",
       "3514  47.636833  2009    16          9\n",
       "3654  65.043327  2010    19          4\n",
       "1705   8.056808  2002    15          7\n",
       "5439  51.971783  2017     3          7\n",
       "...         ...   ...   ...        ...\n",
       "4426  29.282360  2013    22          5\n",
       "2498  31.665783  2005     3          8\n",
       "2840  34.244522  2006    20         12\n",
       "1636   5.628536  2002     9          4\n",
       "1557   5.053050  2001    19         12\n",
       "\n",
       "[6864 rows x 4 columns]"
      ]
     },
     "execution_count": 102,
     "metadata": {},
     "output_type": "execute_result"
    }
   ],
   "source": [
    "df"
   ]
  },
  {
   "cell_type": "markdown",
   "id": "7e99b66c-49ea-4ce4-8a57-45513845e7be",
   "metadata": {},
   "source": [
    "## Divide and Split data for model building"
   ]
  },
  {
   "cell_type": "code",
   "execution_count": 103,
   "id": "9e3c4eaa-f9e0-4e82-9cb3-0aab8ff89599",
   "metadata": {},
   "outputs": [],
   "source": [
    "x=df.drop([\"Open\"], axis=1)     # axis=1: Operates along columns (horizontally).\n"
   ]
  },
  {
   "cell_type": "code",
   "execution_count": 104,
   "id": "ea17ca2c-5a5d-4140-b136-c9c2f932efc7",
   "metadata": {},
   "outputs": [],
   "source": [
    "y = df[\"Open\"]"
   ]
  },
  {
   "cell_type": "code",
   "execution_count": 105,
   "id": "fa93a269-7c6e-4356-8592-0a7d66e1b1eb",
   "metadata": {},
   "outputs": [
    {
     "data": {
      "text/html": [
       "<div>\n",
       "<style scoped>\n",
       "    .dataframe tbody tr th:only-of-type {\n",
       "        vertical-align: middle;\n",
       "    }\n",
       "\n",
       "    .dataframe tbody tr th {\n",
       "        vertical-align: top;\n",
       "    }\n",
       "\n",
       "    .dataframe thead th {\n",
       "        text-align: right;\n",
       "    }\n",
       "</style>\n",
       "<table border=\"1\" class=\"dataframe\">\n",
       "  <thead>\n",
       "    <tr style=\"text-align: right;\">\n",
       "      <th></th>\n",
       "      <th>Year</th>\n",
       "      <th>date</th>\n",
       "      <th>month_num</th>\n",
       "    </tr>\n",
       "  </thead>\n",
       "  <tbody>\n",
       "    <tr>\n",
       "      <th>403</th>\n",
       "      <td>1997</td>\n",
       "      <td>17</td>\n",
       "      <td>7</td>\n",
       "    </tr>\n",
       "    <tr>\n",
       "      <th>3514</th>\n",
       "      <td>2009</td>\n",
       "      <td>16</td>\n",
       "      <td>9</td>\n",
       "    </tr>\n",
       "    <tr>\n",
       "      <th>3654</th>\n",
       "      <td>2010</td>\n",
       "      <td>19</td>\n",
       "      <td>4</td>\n",
       "    </tr>\n",
       "    <tr>\n",
       "      <th>1705</th>\n",
       "      <td>2002</td>\n",
       "      <td>15</td>\n",
       "      <td>7</td>\n",
       "    </tr>\n",
       "    <tr>\n",
       "      <th>5439</th>\n",
       "      <td>2017</td>\n",
       "      <td>3</td>\n",
       "      <td>7</td>\n",
       "    </tr>\n",
       "    <tr>\n",
       "      <th>...</th>\n",
       "      <td>...</td>\n",
       "      <td>...</td>\n",
       "      <td>...</td>\n",
       "    </tr>\n",
       "    <tr>\n",
       "      <th>4426</th>\n",
       "      <td>2013</td>\n",
       "      <td>22</td>\n",
       "      <td>5</td>\n",
       "    </tr>\n",
       "    <tr>\n",
       "      <th>2498</th>\n",
       "      <td>2005</td>\n",
       "      <td>3</td>\n",
       "      <td>8</td>\n",
       "    </tr>\n",
       "    <tr>\n",
       "      <th>2840</th>\n",
       "      <td>2006</td>\n",
       "      <td>20</td>\n",
       "      <td>12</td>\n",
       "    </tr>\n",
       "    <tr>\n",
       "      <th>1636</th>\n",
       "      <td>2002</td>\n",
       "      <td>9</td>\n",
       "      <td>4</td>\n",
       "    </tr>\n",
       "    <tr>\n",
       "      <th>1557</th>\n",
       "      <td>2001</td>\n",
       "      <td>19</td>\n",
       "      <td>12</td>\n",
       "    </tr>\n",
       "  </tbody>\n",
       "</table>\n",
       "<p>6864 rows × 3 columns</p>\n",
       "</div>"
      ],
      "text/plain": [
       "      Year  date  month_num\n",
       "403   1997    17          7\n",
       "3514  2009    16          9\n",
       "3654  2010    19          4\n",
       "1705  2002    15          7\n",
       "5439  2017     3          7\n",
       "...    ...   ...        ...\n",
       "4426  2013    22          5\n",
       "2498  2005     3          8\n",
       "2840  2006    20         12\n",
       "1636  2002     9          4\n",
       "1557  2001    19         12\n",
       "\n",
       "[6864 rows x 3 columns]"
      ]
     },
     "execution_count": 105,
     "metadata": {},
     "output_type": "execute_result"
    }
   ],
   "source": [
    "x"
   ]
  },
  {
   "cell_type": "code",
   "execution_count": null,
   "id": "1110d10e-8c13-47f5-abf0-db108c09f5d7",
   "metadata": {},
   "outputs": [],
   "source": [
    "y"
   ]
  },
  {
   "cell_type": "code",
   "execution_count": 106,
   "id": "d6756a37-80b7-441a-b6c8-cd2ca0db86dd",
   "metadata": {},
   "outputs": [],
   "source": [
    "from sklearn.model_selection import train_test_split"
   ]
  },
  {
   "cell_type": "code",
   "execution_count": 107,
   "id": "d3917c30-256b-457e-8ea3-f74464700905",
   "metadata": {},
   "outputs": [],
   "source": [
    "x_train , x_test , y_train , y_test = train_test_split(x,y , test_size = 25 , random_state = 25)"
   ]
  },
  {
   "cell_type": "markdown",
   "id": "f4f8f9b3-ee4f-46cf-bd1a-53ecead27665",
   "metadata": {},
   "source": [
    "## Import the models"
   ]
  },
  {
   "cell_type": "code",
   "execution_count": 108,
   "id": "e25dc4db-7ee4-4b66-b628-d470bf47ec5a",
   "metadata": {},
   "outputs": [],
   "source": [
    "from sklearn.ensemble import AdaBoostRegressor\n",
    "from sklearn.ensemble import GradientBoostingRegressor"
   ]
  },
  {
   "cell_type": "markdown",
   "id": "23cd8fd2-279a-4c8b-a23d-c70bd1aa7ce5",
   "metadata": {},
   "source": [
    "## Model 1 "
   ]
  },
  {
   "cell_type": "code",
   "execution_count": 109,
   "id": "df5e4540-d966-4946-88c5-2d054a3dbe49",
   "metadata": {},
   "outputs": [],
   "source": [
    "model1 = AdaBoostRegressor()\n",
    "model1.fit(x_train, y_train)\n",
    "y_pred = model1.predict(x_test)"
   ]
  },
  {
   "cell_type": "code",
   "execution_count": 110,
   "id": "6e5d1c71-ad1f-4886-be38-3481550e220a",
   "metadata": {},
   "outputs": [],
   "source": [
    "from sklearn.metrics import r2_score"
   ]
  },
  {
   "cell_type": "code",
   "execution_count": 111,
   "id": "d591598c-4186-4674-abc9-c3b34752b76c",
   "metadata": {},
   "outputs": [
    {
     "data": {
      "text/plain": [
       "0.7308910799693371"
      ]
     },
     "execution_count": 111,
     "metadata": {},
     "output_type": "execute_result"
    }
   ],
   "source": [
    "r2_score(y_test, y_pred)"
   ]
  },
  {
   "cell_type": "markdown",
   "id": "f9ba5748-ee2b-488a-97c8-337246b9eaec",
   "metadata": {},
   "source": [
    "## Model 2"
   ]
  },
  {
   "cell_type": "code",
   "execution_count": 112,
   "id": "1b060ee9-6f8f-4397-a6fe-b42946076f1d",
   "metadata": {},
   "outputs": [
    {
     "data": {
      "text/plain": [
       "0.9577857931391522"
      ]
     },
     "execution_count": 112,
     "metadata": {},
     "output_type": "execute_result"
    }
   ],
   "source": [
    "model2 =GradientBoostingRegressor()\n",
    "model2.fit(x_train , y_train)\n",
    "y_pred = model2.predict(x_test)\n",
    "r2_score(y_test , y_pred)"
   ]
  },
  {
   "cell_type": "code",
   "execution_count": 113,
   "id": "3f3a6497-2861-42ba-95a9-a8e3a4aaa96c",
   "metadata": {},
   "outputs": [],
   "source": [
    "from sklearn.metrics import mean_absolute_error , mean_absolute_percentage_error"
   ]
  },
  {
   "cell_type": "code",
   "execution_count": 114,
   "id": "e94be573-c28f-45e3-aef0-d8ef6b2366f9",
   "metadata": {},
   "outputs": [
    {
     "data": {
      "text/plain": [
       "3.6937415110808804"
      ]
     },
     "execution_count": 114,
     "metadata": {},
     "output_type": "execute_result"
    }
   ],
   "source": [
    "mean_absolute_error(y_test , y_pred) "
   ]
  },
  {
   "cell_type": "code",
   "execution_count": 115,
   "id": "bc9c29d9-7030-4bd8-9536-d0652e707c92",
   "metadata": {},
   "outputs": [
    {
     "data": {
      "text/plain": [
       "0.16773648407161254"
      ]
     },
     "execution_count": 115,
     "metadata": {},
     "output_type": "execute_result"
    }
   ],
   "source": [
    "mean_absolute_percentage_error( y_test , y_pred)"
   ]
  },
  {
   "cell_type": "code",
   "execution_count": 116,
   "id": "a375b927-c9a6-4e98-9cf6-ec1e773895cb",
   "metadata": {},
   "outputs": [
    {
     "data": {
      "text/plain": [
       "Open         float64\n",
       "Year           int32\n",
       "date           int32\n",
       "month_num      int32\n",
       "dtype: object"
      ]
     },
     "execution_count": 116,
     "metadata": {},
     "output_type": "execute_result"
    }
   ],
   "source": [
    "df.dtypes"
   ]
  },
  {
   "cell_type": "markdown",
   "id": "a8dc43ec-a593-4ee6-acf1-c1f3f4415eaf",
   "metadata": {},
   "source": [
    "## Conclusion"
   ]
  },
  {
   "cell_type": "code",
   "execution_count": 1,
   "id": "15db5e58-aee6-48e5-ac94-139a2b2abe73",
   "metadata": {},
   "outputs": [],
   "source": [
    "# This project effectively predicted Tata Steel's stock prices using historical data and machine learning models. \n",
    "# Through data exploration and feature engineering, we identified key trends that can help investors make informed decisions.\""
   ]
  }
 ],
 "metadata": {
  "kernelspec": {
   "display_name": "Python 3 (ipykernel)",
   "language": "python",
   "name": "python3"
  },
  "language_info": {
   "codemirror_mode": {
    "name": "ipython",
    "version": 3
   },
   "file_extension": ".py",
   "mimetype": "text/x-python",
   "name": "python",
   "nbconvert_exporter": "python",
   "pygments_lexer": "ipython3",
   "version": "3.11.7"
  }
 },
 "nbformat": 4,
 "nbformat_minor": 5
}
